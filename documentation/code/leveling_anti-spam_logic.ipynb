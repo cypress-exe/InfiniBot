{
 "cells": [
  {
   "cell_type": "code",
   "execution_count": 1,
   "id": "85072b1b-2815-4501-88f8-feaf8e309479",
   "metadata": {},
   "outputs": [
    {
     "data": {
      "application/vnd.jupyter.widget-view+json": {
       "model_id": "0a12dfa21a344f00948c63fa29d50bd7",
       "version_major": 2,
       "version_minor": 0
      },
      "text/plain": [
       "interactive(children=(FloatSlider(value=3.0, description='Forgiveness', max=5.0, step=0.01), FloatSlider(value…"
      ]
     },
     "metadata": {},
     "output_type": "display_data"
    },
    {
     "data": {
      "text/plain": [
       "<function __main__.visualize_multiplier(forgiveness=0.2, x1=0, x2=0, x3=0, x4=0, x5=0)>"
      ]
     },
     "execution_count": 1,
     "metadata": {},
     "output_type": "execute_result"
    }
   ],
   "source": [
    "import numpy as np\n",
    "import matplotlib.pyplot as plt\n",
    "from ipywidgets import interact, FloatSlider\n",
    "\n",
    "# Function to calculate and visualize the points multiplier\n",
    "def visualize_multiplier(forgiveness=0.2, x1=0, x2=0, x3=0, x4=0, x5=0):\n",
    "    x_values = [x1, x2, x3, x4, x5]  # Similarity scores\n",
    "    initial_multiplier = 1  # Starting value for points_multiplier\n",
    "    \n",
    "    # Calculate multipliers over iterations\n",
    "    multipliers = [initial_multiplier]\n",
    "    current_multiplier = initial_multiplier\n",
    "    for percent_similar in x_values:\n",
    "        factor = 1 - percent_similar  # Adjustment factor\n",
    "        current_multiplier *= factor\n",
    "        current_multiplier += forgiveness * (current_multiplier/2)  # Gradual increase towards 1\n",
    "        \n",
    "        # Keep the multiplier between 0 and 1\n",
    "        if current_multiplier > 1:\n",
    "            current_multiplier = 1\n",
    "        elif current_multiplier < 0:\n",
    "            current_multiplier = 0\n",
    "\n",
    "        multipliers.append(current_multiplier)\n",
    "    \n",
    "    # Prepare data for visualization\n",
    "    iterations = np.arange(len(multipliers))  # Iteration numbers\n",
    "\n",
    "    # Plot the results\n",
    "    plt.figure(figsize=(10, 6))\n",
    "    plt.plot(iterations, multipliers, marker='o', label='Points Multiplier')\n",
    "    plt.xticks(iterations)\n",
    "    plt.title(\"Points Multiplier Over Iterations (Interactive Similarity Scores)\", fontsize=14)\n",
    "    plt.xlabel(\"Iteration\", fontsize=12)\n",
    "    plt.ylabel(\"Points Multiplier\", fontsize=12)\n",
    "    plt.grid(True, linestyle='--', alpha=0.7)\n",
    "    plt.legend(fontsize=12)\n",
    "    plt.ylim(-0.2, 1.2)\n",
    "    plt.show()\n",
    "\n",
    "# Interactive sliders for similarity scores\n",
    "interact(\n",
    "    visualize_multiplier,\n",
    "    forgiveness=FloatSlider(value=3, min=0, max=5, step=0.01, description=\"Forgiveness\"),\n",
    "    x1=FloatSlider(value=0, min=0, max=1, step=0.01, description=\"x1\"),\n",
    "    x2=FloatSlider(value=0, min=0, max=1, step=0.01, description=\"x2\"),\n",
    "    x3=FloatSlider(value=0, min=0, max=1, step=0.01, description=\"x3\"),\n",
    "    x4=FloatSlider(value=0, min=0, max=1, step=0.01, description=\"x4\"),\n",
    "    x5=FloatSlider(value=0, min=0, max=1, step=0.01, description=\"x5\")\n",
    ")"
   ]
  }
 ],
 "metadata": {
  "kernelspec": {
   "display_name": ".venv",
   "language": "python",
   "name": "python3"
  },
  "language_info": {
   "codemirror_mode": {
    "name": "ipython",
    "version": 3
   },
   "file_extension": ".py",
   "mimetype": "text/x-python",
   "name": "python",
   "nbconvert_exporter": "python",
   "pygments_lexer": "ipython3",
   "version": "3.13.1"
  }
 },
 "nbformat": 4,
 "nbformat_minor": 5
}
